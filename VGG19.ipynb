{
  "nbformat": 4,
  "nbformat_minor": 0,
  "metadata": {
    "kernelspec": {
      "name": "python3",
      "display_name": "Python 3"
    },
    "language_info": {
      "codemirror_mode": {
        "name": "ipython",
        "version": 3
      },
      "file_extension": ".py",
      "mimetype": "text/x-python",
      "name": "python",
      "nbconvert_exporter": "python",
      "pygments_lexer": "ipython3",
      "version": "3.6.10"
    },
    "colab": {
      "name": "cnn.ipynb",
      "provenance": [],
      "collapsed_sections": []
    },
    "accelerator": "GPU"
  },
  "cells": [
    {
      "cell_type": "code",
      "metadata": {
        "id": "YGUitmvt8LBb",
        "colab_type": "code",
        "outputId": "ff8f5555-d72c-420c-92f0-5b7060eec35c",
        "colab": {
          "base_uri": "https://localhost:8080/",
          "height": 55
        }
      },
      "source": [
        "from google.colab import drive\n",
        "drive.mount('/content/drive')"
      ],
      "execution_count": 29,
      "outputs": [
        {
          "output_type": "stream",
          "text": [
            "Drive already mounted at /content/drive; to attempt to forcibly remount, call drive.mount(\"/content/drive\", force_remount=True).\n"
          ],
          "name": "stdout"
        }
      ]
    },
    {
      "cell_type": "code",
      "metadata": {
        "id": "-nL2qOf96Uwu",
        "colab_type": "code",
        "colab": {}
      },
      "source": [
        "#\n",
        "# **************************************************************************************************************************************************\n",
        "#\tLibraries\n",
        "# **************************************************************************************************************************************************\n",
        "#\n",
        "\n",
        "from keras import optimizers\n",
        "from keras import applications\n",
        "from keras.models import Model\n",
        "from keras.layers import Flatten, Dense\n",
        "from keras.preprocessing.image import ImageDataGenerator\n",
        "from keras.utils.np_utils import to_categorical\n",
        "from keras.callbacks import EarlyStopping, ModelCheckpoint\n",
        "from math import ceil\n",
        "\n",
        "import datetime\n",
        "import json\n",
        "import matplotlib.pyplot as plt\n",
        "import numpy as np\n",
        "import pandas as pd"
      ],
      "execution_count": 0,
      "outputs": []
    },
    {
      "cell_type": "code",
      "metadata": {
        "id": "Bnbx-fSDJ5-E",
        "colab_type": "code",
        "colab": {}
      },
      "source": [
        "#\n",
        "# **************************************************************************************************************************************************\n",
        "#\tGlobal Variables\n",
        "# **************************************************************************************************************************************************\n",
        "#\n",
        "\n",
        "# saved filename of model\n",
        "model_filename = '/content/drive/My Drive/FYP/Project/model.h5'\n",
        "\n",
        "# saved filename of model weights\n",
        "weights_filename = '/content/drive/My Drive/FYP/Project/model_weights.h5'\n",
        "modelcheckpoint_filename = '/content/drive/My Drive/FYP/Project/model_checkpoint.h5'\n",
        "\n",
        "# saved filename of result csv\n",
        "results_filename = '/content/drive/My Drive/FYP/Project/results.csv'\n",
        "\n",
        "# directories of dataset\n",
        "train_data_dir = '/content/drive/My Drive/FYP/Project/data/train'\n",
        "# validation_data_dir = '/content/drive/My Drive/FYP/Project/data/validation'\n",
        "test_data_dir = '/content/drive/My Drive/FYP/Project/data/test'\n",
        "output_dir = '/content/drive/My Drive/FYP/Project/output'\n",
        "\n",
        "# dimensions of the architecture\n",
        "img_width, img_height = 224, 224\n",
        "\n",
        "# number of channels for the architecture\n",
        "channels = 3\n",
        "\n",
        "# number of epochs\n",
        "epochs = 34\n",
        "\n",
        "# batch sizes\n",
        "training_batch_size = 2\n",
        "validation_batch_size = 1\n",
        "\n",
        "# learning rate\n",
        "learning_rate = 0.0001\n",
        "\n",
        "# class mode\n",
        "class_mode = 'categorical'\n",
        "\n",
        "# total number of classes\n",
        "total_classes = 2"
      ],
      "execution_count": 0,
      "outputs": []
    },
    {
      "cell_type": "code",
      "metadata": {
        "id": "9RmONmQlqQJ0",
        "colab_type": "code",
        "colab": {}
      },
      "source": [
        "#\n",
        "# **************************************************************************************************************************************************\n",
        "#\tFunctions\n",
        "# **************************************************************************************************************************************************\n",
        "#\n",
        "\n",
        "def summary():\n",
        "\t# model summary\n",
        "\tvgg19.summary()\n",
        "\n",
        "\t# graphing our training and validation\n",
        "\tacc = history.history['acc']\n",
        "\tval_acc = history.history['val_acc']\n",
        "\tloss = history.history['loss']\n",
        "\tval_loss = history.history['val_loss']\n",
        "\tepochs = range(len(acc))\n",
        "\tplt.plot(epochs, acc, 'r', label = 'Training Acc')\n",
        "\tplt.plot(epochs, val_acc, 'b', label = 'Validation Acc')\n",
        "\tplt.title('Training and Validation Accuracy')\n",
        "\tplt.ylabel('Accuracy')\n",
        "\tplt.xlabel('Epoch')\n",
        "\tplt.legend()\n",
        "\tplt.figure()\n",
        "\tplt.plot(epochs, loss, 'r', label = 'Training Loss')\n",
        "\tplt.plot(epochs, val_loss, 'b', label = 'Validation Loss')\n",
        "\tplt.title('Training and Validation Loss')\n",
        "\tplt.ylabel('Loss')\n",
        "\tplt.xlabel('Epoch')\n",
        "\tplt.legend()\n",
        "\tplt.show()\n",
        "\n",
        "def saveModel():\n",
        "\tmodel.save(model_filename)\n",
        "\tmodel.save_weights(weights_filename)\n",
        "\n",
        "\tmodel_json = model.to_json()\n",
        "\twith open(\"model_in_json.json\", \"w\") as json_file:\n",
        "\t\tjson.dump(model_json, json_file)"
      ],
      "execution_count": 0,
      "outputs": []
    },
    {
      "cell_type": "code",
      "metadata": {
        "id": "V8elbJX-6Uw5",
        "colab_type": "code",
        "colab": {}
      },
      "source": [
        "#\n",
        "# **************************************************************************************************************************************************\n",
        "#\tMain Code\n",
        "# **************************************************************************************************************************************************\n",
        "#\n",
        "\n",
        "# load model\n",
        "model = applications.VGG19(include_top = False, weights = 'imagenet', classes = total_classes, input_shape = (img_width, img_height, channels))\n",
        "flat = Flatten()(model.layers[-1].output)\n",
        "output = Dense(total_classes, activation = \"softmax\")(flat)\n",
        "vgg19 = Model(inputs = model.inputs, outputs = output)\n",
        "\n",
        "train_datagen = ImageDataGenerator(rescale = 1. / 255,\n",
        "                                    rotation_range = 90,\n",
        "                                    brightness_range = [0.2, 1.0],\n",
        "                                    shear_range = 0.2,\n",
        "                                    zoom_range = 0.3,\n",
        "                                    width_shift_range = 1.0,\n",
        "                                    height_shift_range = 1.0,\n",
        "                                    horizontal_flip = True,\n",
        "                                    vertical_flip = True,\n",
        "                                    validation_split = 0.4)\n",
        "\n",
        "# validation_datagen = ImageDataGenerator(rescale = 1. / 255)\n",
        "\n",
        "# current time\n",
        "start = datetime.datetime.now()"
      ],
      "execution_count": 0,
      "outputs": []
    },
    {
      "cell_type": "code",
      "metadata": {
        "id": "aRufvoBe6Uw8",
        "colab_type": "code",
        "outputId": "662c9e38-db3e-4082-dade-292620cfd990",
        "colab": {
          "base_uri": "https://localhost:8080/",
          "height": 35
        }
      },
      "source": [
        "# training data\n",
        "training_set = train_datagen.flow_from_directory(\n",
        "                                \t\ttrain_data_dir,\n",
        "                                \t\ttarget_size = (img_width, img_height),\n",
        "                                \t\tbatch_size = training_batch_size,\n",
        "                                \t\tclass_mode = class_mode,\n",
        "\t\t\t\t\t\t\t\t\t\t#save_to_dir = output_dir,\n",
        "\t\t\t\t\t\t\t\t\t\t#save_prefix = 'Aug',\n",
        "\t\t\t\t\t\t\t\t\t\tsubset = \"training\",\n",
        "\t\t\t\t\t\t\t\t\t\tseed = 42,\n",
        "                                \t\tshuffle = True)\n",
        "\n",
        "nb_train_samples = len(training_set.filenames)"
      ],
      "execution_count": 34,
      "outputs": [
        {
          "output_type": "stream",
          "text": [
            "Found 352 images belonging to 2 classes.\n"
          ],
          "name": "stdout"
        }
      ]
    },
    {
      "cell_type": "code",
      "metadata": {
        "id": "rYqz-nQ36UxB",
        "colab_type": "code",
        "outputId": "25b271e5-445a-4387-cf82-caa5dba85753",
        "colab": {
          "base_uri": "https://localhost:8080/",
          "height": 35
        }
      },
      "source": [
        "# validation data\n",
        "validation_set = train_datagen.flow_from_directory(\n",
        "                                  \t\ttrain_data_dir,\n",
        "                                  \t\ttarget_size = (img_width, img_height),\n",
        "                                  \t\tbatch_size = validation_batch_size,\n",
        "                                  \t\tclass_mode = class_mode,\n",
        "\t\t\t\t\t\t\t\t\t\tsubset = \"validation\",\n",
        "\t\t\t\t\t\t\t\t\t\tseed = 42,\n",
        "                                  \t\tshuffle = True)\n",
        "\n",
        "nb_validation_samples = len(validation_set.filenames)"
      ],
      "execution_count": 35,
      "outputs": [
        {
          "output_type": "stream",
          "text": [
            "Found 232 images belonging to 2 classes.\n"
          ],
          "name": "stdout"
        }
      ]
    },
    {
      "cell_type": "code",
      "metadata": {
        "scrolled": false,
        "id": "XfOVOtLj6UxN",
        "colab_type": "code",
        "colab": {}
      },
      "source": [
        "\t\t\t\tvgg19.compile(loss = 'categorical_crossentropy',\n",
        "\t\t\t\toptimizer = optimizers.SGD(lr = learning_rate),\n",
        "\t\t\t\tmetrics = ['acc'])"
      ],
      "execution_count": 0,
      "outputs": []
    },
    {
      "cell_type": "code",
      "metadata": {
        "id": "PKmIEdJl6UxS",
        "colab_type": "code",
        "outputId": "07dbf5f5-a3e2-41d8-8876-ef92b65b99e4",
        "colab": {
          "base_uri": "https://localhost:8080/",
          "height": 1000
        }
      },
      "source": [
        "# es = EarlyStopping(monitor = 'val_loss',\n",
        "#                     min_delta = 1e-5,\n",
        "#                     patience = 5,\n",
        "#                     verbose = 1,\n",
        "#                     mode = 'min',\n",
        "#                     restore_best_weights = True)\n",
        "\n",
        "mc = ModelCheckpoint(modelcheckpoint_filename,\n",
        "                        monitor = 'val_loss',\n",
        "                        mode = 'min',\n",
        "                        save_weights_only = True,\n",
        "                        save_best_only = True)\n",
        "\n",
        "history = vgg19.fit_generator(training_set,\n",
        "                                steps_per_epoch = nb_train_samples / training_batch_size,\n",
        "                                epochs = epochs,\n",
        "                              #remember to put back afteer confiq 2 callbacks = [es,mc],\n",
        "                                callbacks = [mc],\n",
        "                                validation_data = validation_set,\n",
        "                                validation_steps = nb_validation_samples / validation_batch_size)"
      ],
      "execution_count": 37,
      "outputs": [
        {
          "output_type": "stream",
          "text": [
            "Epoch 1/34\n",
            "176/176 [==============================] - 19s 106ms/step - loss: 0.7689 - acc: 0.4631 - val_loss: 0.7342 - val_acc: 0.4871\n",
            "Epoch 2/34\n",
            "176/176 [==============================] - 17s 98ms/step - loss: 0.7545 - acc: 0.5341 - val_loss: 0.7321 - val_acc: 0.4957\n",
            "Epoch 3/34\n",
            "176/176 [==============================] - 17s 97ms/step - loss: 0.7418 - acc: 0.5028 - val_loss: 0.6887 - val_acc: 0.5216\n",
            "Epoch 4/34\n",
            "176/176 [==============================] - 17s 95ms/step - loss: 0.7395 - acc: 0.5284 - val_loss: 0.6956 - val_acc: 0.5216\n",
            "Epoch 5/34\n",
            "176/176 [==============================] - 17s 97ms/step - loss: 0.7291 - acc: 0.5597 - val_loss: 0.7705 - val_acc: 0.5086\n",
            "Epoch 6/34\n",
            "176/176 [==============================] - 17s 97ms/step - loss: 0.7583 - acc: 0.4915 - val_loss: 0.6876 - val_acc: 0.5647\n",
            "Epoch 7/34\n",
            "176/176 [==============================] - 17s 97ms/step - loss: 0.7102 - acc: 0.5625 - val_loss: 0.6887 - val_acc: 0.5259\n",
            "Epoch 8/34\n",
            "176/176 [==============================] - 17s 95ms/step - loss: 0.7171 - acc: 0.5483 - val_loss: 0.6892 - val_acc: 0.5259\n",
            "Epoch 9/34\n",
            "176/176 [==============================] - 16s 93ms/step - loss: 0.7070 - acc: 0.5682 - val_loss: 0.6777 - val_acc: 0.5948\n",
            "Epoch 10/34\n",
            "176/176 [==============================] - 16s 93ms/step - loss: 0.6916 - acc: 0.5938 - val_loss: 0.6959 - val_acc: 0.5259\n",
            "Epoch 11/34\n",
            "176/176 [==============================] - 16s 92ms/step - loss: 0.6798 - acc: 0.5909 - val_loss: 0.7158 - val_acc: 0.5302\n",
            "Epoch 12/34\n",
            "176/176 [==============================] - 16s 90ms/step - loss: 0.6997 - acc: 0.5852 - val_loss: 0.6815 - val_acc: 0.5345\n",
            "Epoch 13/34\n",
            "176/176 [==============================] - 16s 92ms/step - loss: 0.6779 - acc: 0.5966 - val_loss: 0.6776 - val_acc: 0.5819\n",
            "Epoch 14/34\n",
            "176/176 [==============================] - 16s 93ms/step - loss: 0.6748 - acc: 0.5938 - val_loss: 0.7927 - val_acc: 0.5086\n",
            "Epoch 15/34\n",
            "176/176 [==============================] - 17s 94ms/step - loss: 0.6725 - acc: 0.6080 - val_loss: 0.6962 - val_acc: 0.5647\n",
            "Epoch 16/34\n",
            "176/176 [==============================] - 16s 93ms/step - loss: 0.6572 - acc: 0.6278 - val_loss: 0.6787 - val_acc: 0.5603\n",
            "Epoch 17/34\n",
            "176/176 [==============================] - 16s 93ms/step - loss: 0.6819 - acc: 0.5966 - val_loss: 0.6798 - val_acc: 0.5388\n",
            "Epoch 18/34\n",
            "176/176 [==============================] - 16s 93ms/step - loss: 0.6385 - acc: 0.6534 - val_loss: 0.6799 - val_acc: 0.5948\n",
            "Epoch 19/34\n",
            "176/176 [==============================] - 16s 92ms/step - loss: 0.6477 - acc: 0.6392 - val_loss: 0.6826 - val_acc: 0.5517\n",
            "Epoch 20/34\n",
            "176/176 [==============================] - 16s 92ms/step - loss: 0.6184 - acc: 0.6705 - val_loss: 0.6719 - val_acc: 0.6121\n",
            "Epoch 21/34\n",
            "176/176 [==============================] - 16s 92ms/step - loss: 0.6386 - acc: 0.6364 - val_loss: 0.6413 - val_acc: 0.6164\n",
            "Epoch 22/34\n",
            "176/176 [==============================] - 16s 91ms/step - loss: 0.5990 - acc: 0.6676 - val_loss: 0.6920 - val_acc: 0.5603\n",
            "Epoch 23/34\n",
            "176/176 [==============================] - 16s 92ms/step - loss: 0.6358 - acc: 0.6506 - val_loss: 0.7119 - val_acc: 0.5129\n",
            "Epoch 24/34\n",
            "176/176 [==============================] - 16s 92ms/step - loss: 0.6096 - acc: 0.7045 - val_loss: 0.6661 - val_acc: 0.5991\n",
            "Epoch 25/34\n",
            "176/176 [==============================] - 16s 92ms/step - loss: 0.5699 - acc: 0.7131 - val_loss: 0.6801 - val_acc: 0.6121\n",
            "Epoch 26/34\n",
            "176/176 [==============================] - 16s 91ms/step - loss: 0.5728 - acc: 0.7017 - val_loss: 0.6729 - val_acc: 0.5905\n",
            "Epoch 27/34\n",
            "176/176 [==============================] - 16s 91ms/step - loss: 0.5872 - acc: 0.6989 - val_loss: 0.7750 - val_acc: 0.5345\n",
            "Epoch 28/34\n",
            "176/176 [==============================] - 16s 94ms/step - loss: 0.5832 - acc: 0.7074 - val_loss: 0.7333 - val_acc: 0.5474\n",
            "Epoch 29/34\n",
            "176/176 [==============================] - 16s 91ms/step - loss: 0.6091 - acc: 0.6847 - val_loss: 0.6432 - val_acc: 0.6336\n",
            "Epoch 30/34\n",
            "176/176 [==============================] - 16s 91ms/step - loss: 0.5782 - acc: 0.6705 - val_loss: 0.7021 - val_acc: 0.5948\n",
            "Epoch 31/34\n",
            "176/176 [==============================] - 16s 92ms/step - loss: 0.5752 - acc: 0.7244 - val_loss: 0.6825 - val_acc: 0.5819\n",
            "Epoch 32/34\n",
            "176/176 [==============================] - 16s 92ms/step - loss: 0.5600 - acc: 0.7131 - val_loss: 0.6698 - val_acc: 0.6034\n",
            "Epoch 33/34\n",
            "176/176 [==============================] - 16s 92ms/step - loss: 0.5468 - acc: 0.7131 - val_loss: 0.7640 - val_acc: 0.5776\n",
            "Epoch 34/34\n",
            "176/176 [==============================] - 16s 91ms/step - loss: 0.5417 - acc: 0.7188 - val_loss: 0.6902 - val_acc: 0.6034\n"
          ],
          "name": "stdout"
        }
      ]
    },
    {
      "cell_type": "code",
      "metadata": {
        "id": "2rxkOJ1uKh6x",
        "colab_type": "code",
        "outputId": "9503e19e-b5fa-4b79-f864-644360104e6f",
        "colab": {
          "base_uri": "https://localhost:8080/",
          "height": 1000
        }
      },
      "source": [
        "summary()\n",
        "saveModel()"
      ],
      "execution_count": 38,
      "outputs": [
        {
          "output_type": "stream",
          "text": [
            "Model: \"model_3\"\n",
            "_________________________________________________________________\n",
            "Layer (type)                 Output Shape              Param #   \n",
            "=================================================================\n",
            "input_3 (InputLayer)         (None, 224, 224, 3)       0         \n",
            "_________________________________________________________________\n",
            "block1_conv1 (Conv2D)        (None, 224, 224, 64)      1792      \n",
            "_________________________________________________________________\n",
            "block1_conv2 (Conv2D)        (None, 224, 224, 64)      36928     \n",
            "_________________________________________________________________\n",
            "block1_pool (MaxPooling2D)   (None, 112, 112, 64)      0         \n",
            "_________________________________________________________________\n",
            "block2_conv1 (Conv2D)        (None, 112, 112, 128)     73856     \n",
            "_________________________________________________________________\n",
            "block2_conv2 (Conv2D)        (None, 112, 112, 128)     147584    \n",
            "_________________________________________________________________\n",
            "block2_pool (MaxPooling2D)   (None, 56, 56, 128)       0         \n",
            "_________________________________________________________________\n",
            "block3_conv1 (Conv2D)        (None, 56, 56, 256)       295168    \n",
            "_________________________________________________________________\n",
            "block3_conv2 (Conv2D)        (None, 56, 56, 256)       590080    \n",
            "_________________________________________________________________\n",
            "block3_conv3 (Conv2D)        (None, 56, 56, 256)       590080    \n",
            "_________________________________________________________________\n",
            "block3_conv4 (Conv2D)        (None, 56, 56, 256)       590080    \n",
            "_________________________________________________________________\n",
            "block3_pool (MaxPooling2D)   (None, 28, 28, 256)       0         \n",
            "_________________________________________________________________\n",
            "block4_conv1 (Conv2D)        (None, 28, 28, 512)       1180160   \n",
            "_________________________________________________________________\n",
            "block4_conv2 (Conv2D)        (None, 28, 28, 512)       2359808   \n",
            "_________________________________________________________________\n",
            "block4_conv3 (Conv2D)        (None, 28, 28, 512)       2359808   \n",
            "_________________________________________________________________\n",
            "block4_conv4 (Conv2D)        (None, 28, 28, 512)       2359808   \n",
            "_________________________________________________________________\n",
            "block4_pool (MaxPooling2D)   (None, 14, 14, 512)       0         \n",
            "_________________________________________________________________\n",
            "block5_conv1 (Conv2D)        (None, 14, 14, 512)       2359808   \n",
            "_________________________________________________________________\n",
            "block5_conv2 (Conv2D)        (None, 14, 14, 512)       2359808   \n",
            "_________________________________________________________________\n",
            "block5_conv3 (Conv2D)        (None, 14, 14, 512)       2359808   \n",
            "_________________________________________________________________\n",
            "block5_conv4 (Conv2D)        (None, 14, 14, 512)       2359808   \n",
            "_________________________________________________________________\n",
            "block5_pool (MaxPooling2D)   (None, 7, 7, 512)         0         \n",
            "_________________________________________________________________\n",
            "flatten_3 (Flatten)          (None, 25088)             0         \n",
            "_________________________________________________________________\n",
            "dense_3 (Dense)              (None, 2)                 50178     \n",
            "=================================================================\n",
            "Total params: 20,074,562\n",
            "Trainable params: 20,074,562\n",
            "Non-trainable params: 0\n",
            "_________________________________________________________________\n"
          ],
          "name": "stdout"
        },
        {
          "output_type": "display_data",
          "data": {
            "image/png": "[encoded data removed]",
            "text/plain": [
              "<Figure size 432x288 with 1 Axes>"
            ]
          },
          "metadata": {
            "tags": []
          }
        },
        {
          "output_type": "display_data",
          "data": {
            "image/png": "[encoded data removed]",
            "text/plain": [
              "<Figure size 432x288 with 1 Axes>"
            ]
          },
          "metadata": {
            "tags": []
          }
        }
      ]
    },
    {
      "cell_type": "code",
      "metadata": {
        "id": "VRCgdcuEp7cg",
        "colab_type": "code",
        "colab": {}
      },
      "source": [
        ""
      ],
      "execution_count": 0,
      "outputs": []
    },
    {
      "cell_type": "code",
      "metadata": {
        "id": "-iiItUupKjD2",
        "colab_type": "code",
        "outputId": "ffc16ca8-eaf1-4c8d-b71c-a714765cb7cd",
        "colab": {
          "base_uri": "https://localhost:8080/",
          "height": 35
        }
      },
      "source": [
        "  (eval_loss, eval_accuracy) = vgg19.evaluate_generator(\n",
        " validation_set, steps = nb_validation_samples, verbose = 1)"
      ],
      "execution_count": 39,
      "outputs": [
        {
          "output_type": "stream",
          "text": [
            "232/232 [==============================] - 5s 21ms/step\n"
          ],
          "name": "stdout"
        }
      ]
    },
    {
      "cell_type": "code",
      "metadata": {
        "id": "uWCzxZFPKj9s",
        "colab_type": "code",
        "outputId": "cd8348f7-9b83-4247-b0bf-4ac9ea800ee9",
        "colab": {
          "base_uri": "https://localhost:8080/",
          "height": 70
        }
      },
      "source": [
        "print(\"[INFO] Accuracy: {:.2f}%\".format(eval_accuracy * 100))\n",
        "print(\"[INFO] Loss: {}\".format(eval_loss))\n",
        "end = datetime.datetime.now()\n",
        "elapsed = end - start\n",
        "print('[INFO] Time Elapsed: ', elapsed)"
      ],
      "execution_count": 40,
      "outputs": [
        {
          "output_type": "stream",
          "text": [
            "[INFO] Accuracy: 62.50%\n",
            "[INFO] Loss: 0.670623984444758\n",
            "[INFO] Time Elapsed:  0:09:34.726727\n"
          ],
          "name": "stdout"
        }
      ]
    },
    {
      "cell_type": "code",
      "metadata": {
        "id": "ZrjRKItL8kc2",
        "colab_type": "code",
        "colab": {}
      },
      "source": [
        ""
      ],
      "execution_count": 0,
      "outputs": []
    },
    {
      "cell_type": "markdown",
      "metadata": {
        "id": "NvQg4XHJT7gf",
        "colab_type": "text"
      },
      "source": [
        ""
      ]
    },
    {
      "cell_type": "code",
      "metadata": {
        "id": "8XiSCTTq5jbJ",
        "colab_type": "code",
        "colab": {
          "base_uri": "https://localhost:8080/",
          "height": 52
        },
        "outputId": "2ab7d628-436e-4d45-eb1e-2bde6f6cddd6"
      },
      "source": [
        "# test data\n",
        "test_datagen = ImageDataGenerator()\n",
        "test_set = test_datagen.flow_from_directory(\n",
        "                                  \t\ttest_data_dir,\n",
        "                                  \t\ttarget_size = (img_width, img_height),\n",
        "                                  \t\tbatch_size = 1,\n",
        "                                  \t\tclass_mode = class_mode,\n",
        "\t\t\t\t\t\t\t\t\t\tseed = 42,\n",
        "                                  \t\tshuffle = True)\n",
        "\n",
        "step_size_test = test_set.n // test_set.batch_size\n",
        "test_set.reset()\n",
        "\n",
        "pred = vgg19.predict_generator(test_set,\n",
        "                                steps = step_size_test,\n",
        "                                verbose = 1)\n",
        "\n",
        "predicted_class_indices = np.argmax(pred, axis = 1)\n",
        "labels = (test_set.class_indices)\n",
        "\n",
        "labels = dict((v, k) for k, v in labels.items())\n",
        "predictions = [labels[k] for k in predicted_class_indices]\n",
        "\n",
        "filenames = test_set.filenames\n",
        "results = pd.DataFrame({\"Filename\": filenames,\n",
        "                      \"Prediction\": predictions})\n",
        "results.to_csv(results_filename, index = False)"
      ],
      "execution_count": 41,
      "outputs": [
        {
          "output_type": "stream",
          "text": [
            "Found 352 images belonging to 2 classes.\n",
            "352/352 [==============================] - 4s 13ms/step\n"
          ],
          "name": "stdout"
        }
      ]
    }
  ]
}