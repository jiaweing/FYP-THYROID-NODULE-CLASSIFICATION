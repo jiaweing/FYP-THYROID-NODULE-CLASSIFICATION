{
  "nbformat": 4,
  "nbformat_minor": 0,
  "metadata": {
    "kernelspec": {
      "name": "python3",
      "display_name": "Python 3"
    },
    "language_info": {
      "codemirror_mode": {
        "name": "ipython",
        "version": 3
      },
      "file_extension": ".py",
      "mimetype": "text/x-python",
      "name": "python",
      "nbconvert_exporter": "python",
      "pygments_lexer": "ipython3",
      "version": "3.6.10"
    },
    "colab": {
      "name": "predict.ipynb",
      "provenance": [],
      "collapsed_sections": []
    },
    "accelerator": "GPU"
  },
  "cells": [
    {
      "cell_type": "code",
      "metadata": {
        "id": "YGUitmvt8LBb",
        "colab_type": "code",
        "outputId": "25f914f7-3c3d-4759-a33c-ca72e7fd255a",
        "colab": {
          "base_uri": "https://localhost:8080/",
          "height": 55
        }
      },
      "source": [
        "from google.colab import drive\n",
        "drive.mount('/content/drive')"
      ],
      "execution_count": 0,
      "outputs": [
        {
          "output_type": "stream",
          "text": [
            "Drive already mounted at /content/drive; to attempt to forcibly remount, call drive.mount(\"/content/drive\", force_remount=True).\n"
          ],
          "name": "stdout"
        }
      ]
    },
    {
      "cell_type": "code",
      "metadata": {
        "id": "-nL2qOf96Uwu",
        "colab_type": "code",
        "colab": {}
      },
      "source": [
        "#\n",
        "# **************************************************************************************************************************************************\n",
        "#\t\tLibraries\n",
        "# **************************************************************************************************************************************************\n",
        "#\n",
        "\n",
        "import datetime\n",
        "import numpy as np\n",
        "import os\n",
        "import pandas as pd\n",
        "from keras import applications\n",
        "from keras import optimizers\n",
        "from keras.models import Model\n",
        "from keras.layers import Flatten, Dense\n",
        "from keras.preprocessing.image import image, ImageDataGenerator\n",
        "np.random.seed(1337)"
      ],
      "execution_count": 0,
      "outputs": []
    },
    {
      "cell_type": "code",
      "metadata": {
        "id": "Bnbx-fSDJ5-E",
        "colab_type": "code",
        "colab": {}
      },
      "source": [
        "#\n",
        "# **************************************************************************************************************************************************\n",
        "#\t\tGlobal Variables\n",
        "# **************************************************************************************************************************************************\n",
        "#\n",
        "\n",
        "# location of the test image\n",
        "imagePath = '/content/drive/My Drive/FYP/Project/data/test/Benign/2_15.jpg'\n",
        "\n",
        "# saved filename of model weights\n",
        "weights_filename = '/content/drive/My Drive/FYP/Project/model_weights.h5'\n",
        "\n",
        "# saved filename of result csv\n",
        "results_filename = '/content/drive/My Drive/FYP/Project/results.csv'\n",
        "\n",
        "# directories of dataset\n",
        "test_data_dir = '/content/drive/My Drive/FYP/Project/data/test'\n",
        "\n",
        "# dimensions of the architecture\n",
        "img_width, img_height = 224, 224\n",
        "\n",
        "# number of channels for the architecture\n",
        "channels = 3\n",
        "\n",
        "# learning rate\n",
        "learning_rate = 1e-4\n",
        "\n",
        "# class mode\n",
        "class_mode = 'categorical'\n",
        "\n",
        "# total number of classes\n",
        "total_classes = 2"
      ],
      "execution_count": 0,
      "outputs": []
    },
    {
      "cell_type": "code",
      "metadata": {
        "id": "XYixN8-d6Uw0",
        "colab_type": "code",
        "colab": {}
      },
      "source": [
        "#\n",
        "# **************************************************************************************************************************************************\n",
        "#\t  Main Code\n",
        "# **************************************************************************************************************************************************\n",
        "#\n",
        "\n",
        "model = applications.VGG19(include_top = False, weights = 'imagenet', classes = total_classes, input_shape = (img_width, img_height, channels))\n",
        "flat = Flatten()(model.layers[-1].output)\n",
        "output = Dense(total_classes, activation = \"softmax\")(flat)\n",
        "loaded_model = Model(inputs = model.inputs, outputs = output)\n",
        "loaded_model.compile(loss = 'categorical_crossentropy', optimizer = optimizers.SGD(lr = learning_rate), metrics = ['acc'])\n",
        "\n",
        "loaded_model.load_weights(weights_filename, by_name = True)"
      ],
      "execution_count": 0,
      "outputs": []
    },
    {
      "cell_type": "code",
      "metadata": {
        "id": "V8elbJX-6Uw5",
        "colab_type": "code",
        "colab": {}
      },
      "source": [
        "# predict single test image\n",
        "def test_image(path, output):\n",
        "    test_image = image.load_img(path, target_size = (224, 224))\n",
        "    test_image = image.img_to_array(test_image)\n",
        "    test_image = np.expand_dims(test_image, axis = 0)\n",
        "    result = loaded_model.predict(test_image)\n",
        "\n",
        "    confidence = [\"{:.10f}\".format(r) for r in result[0]]\n",
        "    if output: print(\"Confidence: \", confidence)\n",
        "\n",
        "    if (result[0][0] == result[0][1]):\n",
        "        if output: print(\"Thyroid Type: Unknown. Unable to classify this image.\")\n",
        "        return \"Unknown\", confidence\n",
        "    elif (np.argmax(result, axis = 1) == 0):\n",
        "        if output: print(\"Thyroid Type: Benign\")\n",
        "        return \"Benign\", confidence\n",
        "    else:\n",
        "        if output: print(\"Thyroid Type: Malignant\")\n",
        "        return \"Malignant\", confidence"
      ],
      "execution_count": 0,
      "outputs": []
    },
    {
      "cell_type": "code",
      "metadata": {
        "id": "3jq3rcAFRORL",
        "colab_type": "code",
        "outputId": "b81e82fd-7d6c-4ef3-bc6f-9cc06c1105be",
        "colab": {
          "base_uri": "https://localhost:8080/",
          "height": 335
        }
      },
      "source": [
        "# predict one image\n",
        "test_image(imagePath, True)"
      ],
      "execution_count": 0,
      "outputs": [
        {
          "output_type": "error",
          "ename": "FileNotFoundError",
          "evalue": "ignored",
          "traceback": [
            "\u001b[0;31m---------------------------------------------------------------------------\u001b[0m",
            "\u001b[0;31mFileNotFoundError\u001b[0m                         Traceback (most recent call last)",
            "\u001b[0;32m<ipython-input-25-bfca8069ebe9>\u001b[0m in \u001b[0;36m<module>\u001b[0;34m()\u001b[0m\n\u001b[0;32m----> 1\u001b[0;31m \u001b[0mtest_image\u001b[0m\u001b[0;34m(\u001b[0m\u001b[0mimagePath\u001b[0m\u001b[0;34m,\u001b[0m \u001b[0;32mTrue\u001b[0m\u001b[0;34m)\u001b[0m\u001b[0;34m\u001b[0m\u001b[0;34m\u001b[0m\u001b[0m\n\u001b[0m",
            "\u001b[0;32m<ipython-input-24-36ed72fe0ec8>\u001b[0m in \u001b[0;36mtest_image\u001b[0;34m(path, output)\u001b[0m\n\u001b[1;32m      1\u001b[0m \u001b[0;32mdef\u001b[0m \u001b[0mtest_image\u001b[0m\u001b[0;34m(\u001b[0m\u001b[0mpath\u001b[0m\u001b[0;34m,\u001b[0m \u001b[0moutput\u001b[0m\u001b[0;34m)\u001b[0m\u001b[0;34m:\u001b[0m\u001b[0;34m\u001b[0m\u001b[0;34m\u001b[0m\u001b[0m\n\u001b[0;32m----> 2\u001b[0;31m     \u001b[0mtest_image\u001b[0m \u001b[0;34m=\u001b[0m \u001b[0mimage\u001b[0m\u001b[0;34m.\u001b[0m\u001b[0mload_img\u001b[0m\u001b[0;34m(\u001b[0m\u001b[0mpath\u001b[0m\u001b[0;34m,\u001b[0m \u001b[0mtarget_size\u001b[0m \u001b[0;34m=\u001b[0m \u001b[0;34m(\u001b[0m\u001b[0;36m224\u001b[0m\u001b[0;34m,\u001b[0m \u001b[0;36m224\u001b[0m\u001b[0;34m)\u001b[0m\u001b[0;34m)\u001b[0m\u001b[0;34m\u001b[0m\u001b[0;34m\u001b[0m\u001b[0m\n\u001b[0m\u001b[1;32m      3\u001b[0m     \u001b[0mtest_image\u001b[0m \u001b[0;34m=\u001b[0m \u001b[0mimage\u001b[0m\u001b[0;34m.\u001b[0m\u001b[0mimg_to_array\u001b[0m\u001b[0;34m(\u001b[0m\u001b[0mtest_image\u001b[0m\u001b[0;34m)\u001b[0m\u001b[0;34m\u001b[0m\u001b[0;34m\u001b[0m\u001b[0m\n\u001b[1;32m      4\u001b[0m     \u001b[0mtest_image\u001b[0m \u001b[0;34m=\u001b[0m \u001b[0mnp\u001b[0m\u001b[0;34m.\u001b[0m\u001b[0mexpand_dims\u001b[0m\u001b[0;34m(\u001b[0m\u001b[0mtest_image\u001b[0m\u001b[0;34m,\u001b[0m \u001b[0maxis\u001b[0m \u001b[0;34m=\u001b[0m \u001b[0;36m0\u001b[0m\u001b[0;34m)\u001b[0m\u001b[0;34m\u001b[0m\u001b[0;34m\u001b[0m\u001b[0m\n\u001b[1;32m      5\u001b[0m     \u001b[0mresult\u001b[0m \u001b[0;34m=\u001b[0m \u001b[0mloaded_model\u001b[0m\u001b[0;34m.\u001b[0m\u001b[0mpredict\u001b[0m\u001b[0;34m(\u001b[0m\u001b[0mtest_image\u001b[0m\u001b[0;34m)\u001b[0m\u001b[0;34m\u001b[0m\u001b[0;34m\u001b[0m\u001b[0m\n",
            "\u001b[0;32m/usr/local/lib/python3.6/dist-packages/keras_preprocessing/image/utils.py\u001b[0m in \u001b[0;36mload_img\u001b[0;34m(path, grayscale, color_mode, target_size, interpolation)\u001b[0m\n\u001b[1;32m    108\u001b[0m         raise ImportError('Could not import PIL.Image. '\n\u001b[1;32m    109\u001b[0m                           'The use of `load_img` requires PIL.')\n\u001b[0;32m--> 110\u001b[0;31m     \u001b[0mimg\u001b[0m \u001b[0;34m=\u001b[0m \u001b[0mpil_image\u001b[0m\u001b[0;34m.\u001b[0m\u001b[0mopen\u001b[0m\u001b[0;34m(\u001b[0m\u001b[0mpath\u001b[0m\u001b[0;34m)\u001b[0m\u001b[0;34m\u001b[0m\u001b[0;34m\u001b[0m\u001b[0m\n\u001b[0m\u001b[1;32m    111\u001b[0m     \u001b[0;32mif\u001b[0m \u001b[0mcolor_mode\u001b[0m \u001b[0;34m==\u001b[0m \u001b[0;34m'grayscale'\u001b[0m\u001b[0;34m:\u001b[0m\u001b[0;34m\u001b[0m\u001b[0;34m\u001b[0m\u001b[0m\n\u001b[1;32m    112\u001b[0m         \u001b[0;32mif\u001b[0m \u001b[0mimg\u001b[0m\u001b[0;34m.\u001b[0m\u001b[0mmode\u001b[0m \u001b[0;34m!=\u001b[0m \u001b[0;34m'L'\u001b[0m\u001b[0;34m:\u001b[0m\u001b[0;34m\u001b[0m\u001b[0;34m\u001b[0m\u001b[0m\n",
            "\u001b[0;32m/usr/local/lib/python3.6/dist-packages/PIL/Image.py\u001b[0m in \u001b[0;36mopen\u001b[0;34m(fp, mode)\u001b[0m\n\u001b[1;32m   2764\u001b[0m \u001b[0;34m\u001b[0m\u001b[0m\n\u001b[1;32m   2765\u001b[0m     \u001b[0;32mif\u001b[0m \u001b[0mfilename\u001b[0m\u001b[0;34m:\u001b[0m\u001b[0;34m\u001b[0m\u001b[0;34m\u001b[0m\u001b[0m\n\u001b[0;32m-> 2766\u001b[0;31m         \u001b[0mfp\u001b[0m \u001b[0;34m=\u001b[0m \u001b[0mbuiltins\u001b[0m\u001b[0;34m.\u001b[0m\u001b[0mopen\u001b[0m\u001b[0;34m(\u001b[0m\u001b[0mfilename\u001b[0m\u001b[0;34m,\u001b[0m \u001b[0;34m\"rb\"\u001b[0m\u001b[0;34m)\u001b[0m\u001b[0;34m\u001b[0m\u001b[0;34m\u001b[0m\u001b[0m\n\u001b[0m\u001b[1;32m   2767\u001b[0m         \u001b[0mexclusive_fp\u001b[0m \u001b[0;34m=\u001b[0m \u001b[0;32mTrue\u001b[0m\u001b[0;34m\u001b[0m\u001b[0;34m\u001b[0m\u001b[0m\n\u001b[1;32m   2768\u001b[0m \u001b[0;34m\u001b[0m\u001b[0m\n",
            "\u001b[0;31mFileNotFoundError\u001b[0m: [Errno 2] No such file or directory: '/content/drive/My Drive/FYP/Project/data/test/Benign/2_15.jpg'"
          ]
        }
      ]
    },
    {
      "cell_type": "code",
      "metadata": {
        "id": "zc68XHNMEL1_",
        "colab_type": "code",
        "colab": {}
      },
      "source": [
        "# predict all test images\n",
        "images = []\n",
        "predictions = []\n",
        "confidences = []\n",
        "\n",
        "print(\"Predicting all test images..\")\n",
        "start = datetime.datetime.now()\n",
        "\n",
        "count = 0\n",
        "for (dirpath, dirnames, filenames) in os.walk(test_data_dir):\n",
        "    for file in filenames:\n",
        "        result, confidence = test_image(os.path.join(dirpath, file), False)\n",
        "        images.append(file)\n",
        "        predictions.append(result)\n",
        "        confidences.append(confidence)\n",
        "        count += 1\n",
        "\n",
        "print(\"Writing \" + str(count) + \" results to CSV..\")\n",
        "results = pd.DataFrame({\"Filename\": images,\n",
        "                      \"Prediction\": predictions,\n",
        "                      \"Confidence\": confidences})\n",
        "results.to_csv(results_filename, index = False)\n",
        "\n",
        "end = datetime.datetime.now()\n",
        "elapsed = end - start\n",
        "print(\"Prediction completed after \" + str(elapsed) + \".\")"
      ],
      "execution_count": 0,
      "outputs": []
    }
  ]
}