{
  "nbformat": 4,
  "nbformat_minor": 0,
  "metadata": {
    "colab": {
      "name": "Prediction.ipynb",
      "provenance": [],
      "collapsed_sections": []
    },
    "kernelspec": {
      "name": "python3",
      "display_name": "Python 3"
    }
  },
  "cells": [
    {
      "cell_type": "code",
      "metadata": {
        "id": "nNHfqxHfdMKa",
        "colab_type": "code",
        "outputId": "09a65c8f-caa0-4e5f-c86c-e4025419ee62",
        "colab": {
          "base_uri": "https://localhost:8080/",
          "height": 121
        }
      },
      "source": [
        "from google.colab import drive\n",
        "drive.mount('/content/drive')"
      ],
      "execution_count": 0,
      "outputs": [
        {
          "output_type": "stream",
          "text": [
            "Go to this URL in a browser: https://accounts.google.com/o/oauth2/auth?client_id=947318989803-6bn6qk8qdgf4n4g3pfee6491hc0brc4i.apps.googleusercontent.com&redirect_uri=urn%3aietf%3awg%3aoauth%3a2.0%3aoob&response_type=code&scope=email%20https%3a%2f%2fwww.googleapis.com%2fauth%2fdocs.test%20https%3a%2f%2fwww.googleapis.com%2fauth%2fdrive%20https%3a%2f%2fwww.googleapis.com%2fauth%2fdrive.photos.readonly%20https%3a%2f%2fwww.googleapis.com%2fauth%2fpeopleapi.readonly\n",
            "\n",
            "Enter your authorization code:\n",
            "··········\n",
            "Mounted at /content/drive\n"
          ],
          "name": "stdout"
        }
      ]
    },
    {
      "cell_type": "code",
      "metadata": {
        "id": "ctLs9v7qdXK1",
        "colab_type": "code",
        "outputId": "3902542e-f0b5-4e7e-9c19-04a361830921",
        "colab": {
          "base_uri": "https://localhost:8080/",
          "height": 154
        }
      },
      "source": [
        "#\n",
        "# **************************************************************************************************************************************************\n",
        "#\tLibraries\n",
        "# **************************************************************************************************************************************************\n",
        "#\n",
        "import datetime\n",
        "import numpy as np\n",
        "import os\n",
        "import pandas as pd\n",
        "from keras import applications\n",
        "from keras import optimizers\n",
        "from keras.models import Model\n",
        "from keras.layers import Flatten, Dense\n",
        "from keras.preprocessing.image import image, ImageDataGenerator\n",
        "np.random.seed(1337)\n",
        "#\n",
        "# **************************************************************************************************************************************************\n",
        "#\tGlobal Variables\n",
        "# **************************************************************************************************************************************************\n",
        "#\n",
        "\n",
        "# location of the test image\n",
        "imagePath = '/content/drive/My Drive/Colab Notebooks/test/Benign/3_7.jpg'\n",
        "\n",
        "# saved filename of model weights\n",
        "weights_filename = '/content/drive/My Drive/Colab Notebooks/weights.h5'\n",
        "\n",
        "# saved filename of result csv\n",
        "results_filename = '/content/drive/My Drive/Colab Notebooks/results.csv'\n",
        "\n",
        "# dimensions of the architecture\n",
        "img_width, img_height = 224, 224\n",
        "\n",
        "# directories of dataset\n",
        "test_data_dir = '/content/drive/My Drive/Colab Notebooks/test'\n",
        "\n",
        "# number of channels for the architecture\n",
        "channels = 3\n",
        "\n",
        "# total number of classes\n",
        "total_classes = 2\n",
        "\n",
        "# learning rate\n",
        "learning_rate = 1e-4\n",
        "\n",
        "model = applications.ResNet50(include_top = False, weights = 'imagenet', classes = total_classes, input_shape=(img_width, img_height, 3))\n",
        "flat = Flatten()(model.layers[-1].output)\n",
        "output = Dense(total_classes, activation=\"sigmoid\")(flat)\n",
        "loaded_model = Model(inputs=model.inputs, outputs=output)\n",
        "loaded_model.compile(loss='categorical_crossentropy', optimizer=optimizers.SGD(lr = learning_rate), metrics=['acc'])\n",
        "\n",
        "loaded_model.load_weights(weights_filename, by_name = True)\n",
        "\n",
        "def test_image(path,output):\n",
        "    test_image = image.load_img(imagePath, target_size = (224, 224))\n",
        "    test_image = image.img_to_array(test_image)\n",
        "    test_image = np.expand_dims(test_image, axis = 0)\n",
        "    result = loaded_model.predict(test_image)\n",
        "\n",
        "    confidence = [\"{:.10f}\".format(r) for r in result[0]]\n",
        "    if output: print(\"Confidence: \", result)\n",
        "\n",
        "    if (result[0][0] == result[0][1]):\n",
        "        if output: print(\"Thyroid Type: Unknown. Unable to classify this image.\")\n",
        "        return \"Unknown\", confidence\n",
        "    elif (np.argmax(result, axis = 1) == 0):\n",
        "        if output: print(\"Thyroid Type: Benign\")\n",
        "        return \"Benign\", confidence\n",
        "    else:\n",
        "        if output: print(\"Thyroid Type: Malignant\")\n",
        "        return \"Malignant\", confidence\n",
        "\n",
        "# predict one image\n",
        "test_image(imagePath, True)\n",
        "\n",
        "# predict all test images\n",
        "images = []\n",
        "predictions = []\n",
        "confidences = []\n",
        "\n",
        "print(\"Predicting all test images..\")\n",
        "start = datetime.datetime.now()\n",
        "\n",
        "count = 0\n",
        "for (dirpath, dirnames, filenames) in os.walk(test_data_dir):\n",
        "    for file in filenames:\n",
        "        result, confidence = test_image(os.path.join(dirpath, file), False)\n",
        "        images.append(file)\n",
        "        predictions.append(result)\n",
        "        confidences.append(confidence)\n",
        "        count += 1\n",
        "\n",
        "print(\"Writing \" + str(count) + \" results to CSV..\")\n",
        "results = pd.DataFrame({\"Filename\": images,\n",
        "                      \"Prediction\": predictions,\n",
        "                      \"Confidence\": confidences})\n",
        "results.to_csv(results_filename, index = False)\n",
        "\n",
        "end = datetime.datetime.now()\n",
        "elapsed = end - start\n",
        "print(\"Prediction completed after \" + str(elapsed) + \".\")"
      ],
      "execution_count": 0,
      "outputs": [
        {
          "output_type": "stream",
          "text": [
            "/usr/local/lib/python3.6/dist-packages/keras_applications/resnet50.py:265: UserWarning: The output shape of `ResNet50(include_top=False)` has been changed since Keras 2.2.0.\n",
            "  warnings.warn('The output shape of `ResNet50(include_top=False)` '\n"
          ],
          "name": "stderr"
        },
        {
          "output_type": "stream",
          "text": [
            "Confidence:  [[0. 1.]]\n",
            "Thyroid Type: Malignant\n",
            "Predicting all test images..\n",
            "Writing 480 results to CSV..\n",
            "Prediction completed after 0:02:26.885122.\n"
          ],
          "name": "stdout"
        }
      ]
    }
  ]
}