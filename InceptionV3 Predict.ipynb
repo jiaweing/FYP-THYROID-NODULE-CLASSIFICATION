{
  "nbformat": 4,
  "nbformat_minor": 0,
  "metadata": {
    "kernelspec": {
      "name": "python3",
      "display_name": "Python 3"
    },
    "language_info": {
      "codemirror_mode": {
        "name": "ipython",
        "version": 3
      },
      "file_extension": ".py",
      "mimetype": "text/x-python",
      "name": "python",
      "nbconvert_exporter": "python",
      "pygments_lexer": "ipython3",
      "version": "3.6.10"
    },
    "colab": {
      "name": "iv3_predict.ipynb",
      "provenance": [],
      "collapsed_sections": []
    },
    "accelerator": "GPU"
  },
  "cells": [
    {
      "cell_type": "code",
      "metadata": {
        "id": "YGUitmvt8LBb",
        "colab_type": "code",
        "outputId": "fefe7182-a5a3-41ea-f926-2cd5bba1862a",
        "colab": {
          "base_uri": "https://localhost:8080/",
          "height": 54
        }
      },
      "source": [
        "from google.colab import drive\n",
        "drive.mount('/content/drive')"
      ],
      "execution_count": 9,
      "outputs": [
        {
          "output_type": "stream",
          "text": [
            "Drive already mounted at /content/drive; to attempt to forcibly remount, call drive.mount(\"/content/drive\", force_remount=True).\n"
          ],
          "name": "stdout"
        }
      ]
    },
    {
      "cell_type": "code",
      "metadata": {
        "id": "-nL2qOf96Uwu",
        "colab_type": "code",
        "colab": {}
      },
      "source": [
        "#\n",
        "# **************************************************************************************************************************************************\n",
        "#\t\tLibraries\n",
        "# **************************************************************************************************************************************************\n",
        "#\n",
        "\n",
        "import datetime\n",
        "import numpy as np\n",
        "import os\n",
        "import pandas as pd\n",
        "from keras import applications\n",
        "from keras import optimizers\n",
        "from keras.models import Model\n",
        "from keras.layers import Flatten, Dense\n",
        "from keras.preprocessing.image import image, ImageDataGenerator\n",
        "np.random.seed(1337)"
      ],
      "execution_count": 0,
      "outputs": []
    },
    {
      "cell_type": "code",
      "metadata": {
        "id": "Bnbx-fSDJ5-E",
        "colab_type": "code",
        "colab": {}
      },
      "source": [
        "#\n",
        "# **************************************************************************************************************************************************\n",
        "#\t\tGlobal Variables\n",
        "# **************************************************************************************************************************************************\n",
        "#\n",
        "\n",
        "# location of the test image\n",
        "imagePath = '/content/drive/My Drive/Dataset/data/test/Benign/2_15.jpg'\n",
        "\n",
        "# saved filename of model weights\n",
        "weights_filename = '/content/drive/My Drive/FYP/model_checkpoint.h5'\n",
        "\n",
        "# saved filename of result csv\n",
        "results_filename = '/content/drive/My Drive/FYP/results.csv'\n",
        "\n",
        "# directories of dataset\n",
        "test_data_dir = '/content/drive/My Drive/Dataset/data/test'\n",
        "\n",
        "# dimensions of the architecture\n",
        "img_width, img_height = 299, 299\n",
        "\n",
        "# number of channels for the architecture\n",
        "channels = 3\n",
        "\n",
        "# learning rate\n",
        "learning_rate = 1e-4\n",
        "\n",
        "# class mode\n",
        "class_mode = 'categorical'\n",
        "\n",
        "# total number of classes\n",
        "total_classes = 2"
      ],
      "execution_count": 0,
      "outputs": []
    },
    {
      "cell_type": "code",
      "metadata": {
        "id": "XYixN8-d6Uw0",
        "colab_type": "code",
        "colab": {}
      },
      "source": [
        "#\n",
        "# **************************************************************************************************************************************************\n",
        "#\t  Main Code\n",
        "# **************************************************************************************************************************************************\n",
        "#\n",
        "\n",
        "model = applications.InceptionV3(include_top = False, weights = 'imagenet', classes = total_classes, input_shape = (img_width, img_height, channels))\n",
        "flat = Flatten()(model.layers[-1].output)\n",
        "output = Dense(total_classes, activation = \"softmax\")(flat)\n",
        "loaded_model = Model(inputs = model.inputs, outputs = output)\n",
        "loaded_model.compile(loss = 'categorical_crossentropy', optimizer = optimizers.SGD(lr = learning_rate), metrics = ['acc'])\n",
        "\n",
        "loaded_model.load_weights(weights_filename, by_name = True)"
      ],
      "execution_count": 0,
      "outputs": []
    },
    {
      "cell_type": "code",
      "metadata": {
        "id": "V8elbJX-6Uw5",
        "colab_type": "code",
        "colab": {}
      },
      "source": [
        "# predict single test image\n",
        "def test_image(path, output):\n",
        "    test_image = image.load_img(path, target_size = (299, 299))\n",
        "    test_image = image.img_to_array(test_image)\n",
        "    test_image = np.expand_dims(test_image, axis = 0)\n",
        "    result = loaded_model.predict(test_image)\n",
        "\n",
        "    confidence = [\"{:.10f}\".format(r) for r in result[0]]\n",
        "    if output: print(\"Confidence: \", confidence)\n",
        "\n",
        "    if (result[0][0] == result[0][1]):\n",
        "        if output: print(\"Thyroid Type: Unknown. Unable to classify this image.\")\n",
        "        return \"Unknown\", confidence\n",
        "    elif (np.argmax(result, axis = 1) == 0):\n",
        "        if output: print(\"Thyroid Type: Benign\")\n",
        "        return \"Benign\", confidence\n",
        "    else:\n",
        "        if output: print(\"Thyroid Type: Malignant\")\n",
        "        return \"Malignant\", confidence"
      ],
      "execution_count": 0,
      "outputs": []
    },
    {
      "cell_type": "code",
      "metadata": {
        "id": "3jq3rcAFRORL",
        "colab_type": "code",
        "outputId": "69f6d4aa-fe94-4983-c863-2750d5100d68",
        "colab": {
          "base_uri": "https://localhost:8080/",
          "height": 70
        }
      },
      "source": [
        "# predict one image\n",
        "test_image(imagePath, True)"
      ],
      "execution_count": 14,
      "outputs": [
        {
          "output_type": "stream",
          "text": [
            "Confidence:  ['0.0375934877', '0.9624065757']\n",
            "Thyroid Type: Malignant\n"
          ],
          "name": "stdout"
        },
        {
          "output_type": "execute_result",
          "data": {
            "text/plain": [
              "('Malignant', ['0.0375934877', '0.9624065757'])"
            ]
          },
          "metadata": {
            "tags": []
          },
          "execution_count": 14
        }
      ]
    },
    {
      "cell_type": "code",
      "metadata": {
        "id": "zc68XHNMEL1_",
        "colab_type": "code",
        "outputId": "22772f20-93a6-4511-be43-5af559684a13",
        "colab": {
          "base_uri": "https://localhost:8080/",
          "height": 70
        }
      },
      "source": [
        "# predict all test images\n",
        "images = []\n",
        "predictions = []\n",
        "confidences = []\n",
        "\n",
        "print(\"Predicting all test images..\")\n",
        "start = datetime.datetime.now()\n",
        "\n",
        "count = 0\n",
        "for (dirpath, dirnames, filenames) in os.walk(test_data_dir):\n",
        "    for file in filenames:\n",
        "        result, confidence = test_image(os.path.join(dirpath, file), False)\n",
        "        images.append(file)\n",
        "        predictions.append(result)\n",
        "        confidences.append(confidence)\n",
        "        count += 1\n",
        "\n",
        "print(\"Writing \" + str(count) + \" results to CSV..\")\n",
        "results = pd.DataFrame({\"Filename\": images,\n",
        "                      \"Prediction\": predictions,\n",
        "                      \"Confidence\": confidences})\n",
        "results.to_csv(results_filename, index = False)\n",
        "\n",
        "end = datetime.datetime.now()\n",
        "elapsed = end - start\n",
        "print(\"Prediction completed after \" + str(elapsed) + \".\")"
      ],
      "execution_count": 15,
      "outputs": [
        {
          "output_type": "stream",
          "text": [
            "Predicting all test images..\n",
            "Writing 480 results to CSV..\n",
            "Prediction completed after 0:00:09.493067.\n"
          ],
          "name": "stdout"
        }
      ]
    }
  ]
}